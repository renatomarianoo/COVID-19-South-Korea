{
 "cells": [
  {
   "cell_type": "markdown",
   "metadata": {},
   "source": [
    "<p style=\"background:#BF4F51; color:white; font-size: 2.1em; text-align:center\"> \n",
    "    <br><br><b>COVID-19 Dataset Analysis<br>\n",
    "    <br>in South Korea</b> <br><br>\n",
    "    - Preprocessing -<br><br>\n",
    "</p>"
   ]
  },
  {
   "cell_type": "markdown",
   "metadata": {},
   "source": [
    "<p style=\"text-align: right;\">Module 1: Data Wrangling with Python<br>\n",
    "Capstone Project<br>\n",
    "Author : Renato Mariano</p>"
   ]
  },
  {
   "cell_type": "markdown",
   "metadata": {},
   "source": [
    "<h2 style=\"color:#BF4F51\">Imports and Data Loading </h2>"
   ]
  },
  {
   "cell_type": "code",
   "execution_count": 1,
   "metadata": {},
   "outputs": [],
   "source": [
    "import pandas as pd\n",
    "import glob\n",
    "import numpy as np\n",
    "\n",
    "import matplotlib.pyplot as plt\n",
    "\n",
    "from datetime import date\n",
    "from suplement_functions import (\n",
    "    grouped_plots,\n",
    "    set_month_tick,\n",
    "    clear_barplot,\n",
    ")\n",
    "\n",
    "import warnings\n",
    "warnings.filterwarnings('ignore')"
   ]
  },
  {
   "cell_type": "markdown",
   "metadata": {},
   "source": [
    "All the dataframes will be recieve by one dictionary which keys are their names."
   ]
  },
  {
   "cell_type": "code",
   "execution_count": 2,
   "metadata": {
    "scrolled": true
   },
   "outputs": [
    {
     "data": {
      "text/plain": [
       "dict_keys(['Case', 'PatientInfo', 'Policy', 'Region', 'SearchTrend', 'SeoulFloating', 'Time', 'TimeAge', 'TimeGender', 'TimeProvince', 'Weather'])"
      ]
     },
     "execution_count": 2,
     "metadata": {},
     "output_type": "execute_result"
    }
   ],
   "source": [
    "# Get list of CSV files\n",
    "dir_path = r\"C:/Users/renat/TCProjects/M1_Capstone/COVID_data_Korea\"\n",
    "csv_files = glob.glob(dir_path + \"/*.csv\")\n",
    "\n",
    "df_dict = {}\n",
    "\n",
    "for file in csv_files:\n",
    "    temp_df = pd.read_csv(file)\n",
    "    df_dict[file[55:-4]] = temp_df\n",
    "df_dict.keys()"
   ]
  },
  {
   "cell_type": "markdown",
   "metadata": {},
   "source": [
    "<h2 style=\"color:#BF4F51\">Data Preprocessing </h2>"
   ]
  },
  {
   "cell_type": "markdown",
   "metadata": {},
   "source": [
    "<h3 style=\"color:#BF4F51\">Case Dataframe</h3>"
   ]
  },
  {
   "cell_type": "markdown",
   "metadata": {},
   "source": [
    "- Case: Data of COVID-19 infection cases in South Korea"
   ]
  },
  {
   "cell_type": "code",
   "execution_count": 3,
   "metadata": {},
   "outputs": [
    {
     "data": {
      "text/html": [
       "<div>\n",
       "<style scoped>\n",
       "    .dataframe tbody tr th:only-of-type {\n",
       "        vertical-align: middle;\n",
       "    }\n",
       "\n",
       "    .dataframe tbody tr th {\n",
       "        vertical-align: top;\n",
       "    }\n",
       "\n",
       "    .dataframe thead th {\n",
       "        text-align: right;\n",
       "    }\n",
       "</style>\n",
       "<table border=\"1\" class=\"dataframe\">\n",
       "  <thead>\n",
       "    <tr style=\"text-align: right;\">\n",
       "      <th></th>\n",
       "      <th>case_id</th>\n",
       "      <th>province</th>\n",
       "      <th>city</th>\n",
       "      <th>group</th>\n",
       "      <th>infection_case</th>\n",
       "      <th>confirmed</th>\n",
       "      <th>latitude</th>\n",
       "      <th>longitude</th>\n",
       "    </tr>\n",
       "  </thead>\n",
       "  <tbody>\n",
       "    <tr>\n",
       "      <th>165</th>\n",
       "      <td>6100008</td>\n",
       "      <td>Gyeongsangnam-do</td>\n",
       "      <td>from other city</td>\n",
       "      <td>True</td>\n",
       "      <td>Itaewon Clubs</td>\n",
       "      <td>2</td>\n",
       "      <td>-</td>\n",
       "      <td>-</td>\n",
       "    </tr>\n",
       "    <tr>\n",
       "      <th>166</th>\n",
       "      <td>6100009</td>\n",
       "      <td>Gyeongsangnam-do</td>\n",
       "      <td>from other city</td>\n",
       "      <td>True</td>\n",
       "      <td>Onchun Church</td>\n",
       "      <td>2</td>\n",
       "      <td>-</td>\n",
       "      <td>-</td>\n",
       "    </tr>\n",
       "    <tr>\n",
       "      <th>167</th>\n",
       "      <td>6100010</td>\n",
       "      <td>Gyeongsangnam-do</td>\n",
       "      <td>-</td>\n",
       "      <td>False</td>\n",
       "      <td>overseas inflow</td>\n",
       "      <td>26</td>\n",
       "      <td>-</td>\n",
       "      <td>-</td>\n",
       "    </tr>\n",
       "    <tr>\n",
       "      <th>168</th>\n",
       "      <td>6100011</td>\n",
       "      <td>Gyeongsangnam-do</td>\n",
       "      <td>-</td>\n",
       "      <td>False</td>\n",
       "      <td>contact with patient</td>\n",
       "      <td>6</td>\n",
       "      <td>-</td>\n",
       "      <td>-</td>\n",
       "    </tr>\n",
       "    <tr>\n",
       "      <th>169</th>\n",
       "      <td>6100012</td>\n",
       "      <td>Gyeongsangnam-do</td>\n",
       "      <td>-</td>\n",
       "      <td>False</td>\n",
       "      <td>etc</td>\n",
       "      <td>20</td>\n",
       "      <td>-</td>\n",
       "      <td>-</td>\n",
       "    </tr>\n",
       "    <tr>\n",
       "      <th>170</th>\n",
       "      <td>7000001</td>\n",
       "      <td>Jeju-do</td>\n",
       "      <td>-</td>\n",
       "      <td>False</td>\n",
       "      <td>overseas inflow</td>\n",
       "      <td>14</td>\n",
       "      <td>-</td>\n",
       "      <td>-</td>\n",
       "    </tr>\n",
       "    <tr>\n",
       "      <th>171</th>\n",
       "      <td>7000002</td>\n",
       "      <td>Jeju-do</td>\n",
       "      <td>-</td>\n",
       "      <td>False</td>\n",
       "      <td>contact with patient</td>\n",
       "      <td>0</td>\n",
       "      <td>-</td>\n",
       "      <td>-</td>\n",
       "    </tr>\n",
       "    <tr>\n",
       "      <th>172</th>\n",
       "      <td>7000003</td>\n",
       "      <td>Jeju-do</td>\n",
       "      <td>-</td>\n",
       "      <td>False</td>\n",
       "      <td>etc</td>\n",
       "      <td>4</td>\n",
       "      <td>-</td>\n",
       "      <td>-</td>\n",
       "    </tr>\n",
       "    <tr>\n",
       "      <th>173</th>\n",
       "      <td>7000004</td>\n",
       "      <td>Jeju-do</td>\n",
       "      <td>from other city</td>\n",
       "      <td>True</td>\n",
       "      <td>Itaewon Clubs</td>\n",
       "      <td>1</td>\n",
       "      <td>-</td>\n",
       "      <td>-</td>\n",
       "    </tr>\n",
       "  </tbody>\n",
       "</table>\n",
       "</div>"
      ],
      "text/plain": [
       "     case_id          province             city  group        infection_case  \\\n",
       "165  6100008  Gyeongsangnam-do  from other city   True         Itaewon Clubs   \n",
       "166  6100009  Gyeongsangnam-do  from other city   True         Onchun Church   \n",
       "167  6100010  Gyeongsangnam-do                -  False       overseas inflow   \n",
       "168  6100011  Gyeongsangnam-do                -  False  contact with patient   \n",
       "169  6100012  Gyeongsangnam-do                -  False                   etc   \n",
       "170  7000001           Jeju-do                -  False       overseas inflow   \n",
       "171  7000002           Jeju-do                -  False  contact with patient   \n",
       "172  7000003           Jeju-do                -  False                   etc   \n",
       "173  7000004           Jeju-do  from other city   True         Itaewon Clubs   \n",
       "\n",
       "     confirmed latitude longitude  \n",
       "165          2        -         -  \n",
       "166          2        -         -  \n",
       "167         26        -         -  \n",
       "168          6        -         -  \n",
       "169         20        -         -  \n",
       "170         14        -         -  \n",
       "171          0        -         -  \n",
       "172          4        -         -  \n",
       "173          1        -         -  "
      ]
     },
     "execution_count": 3,
     "metadata": {},
     "output_type": "execute_result"
    }
   ],
   "source": [
    "case_df = df_dict['Case']\n",
    "case_df.tail(9)"
   ]
  },
  {
   "cell_type": "markdown",
   "metadata": {},
   "source": [
    "- city, latitude and longitude effectively present null values to be read as \"-\"\n",
    "\n",
    "group column:\n",
    "- If the value is 'TRUE' in this column, the value of 'infection_cases' means the name of group.\n",
    "- The values named 'contact with patient', 'overseas inflow' and 'etc' are not group infection.\n",
    "\n",
    "infection_case: the name of group or other cases\n",
    "- The value 'overseas inflow' means that the infection is from other country.\n",
    "- The value 'etc' includes individual cases, cases where relevance classification is ongoing after investigation, and cases under investigation."
   ]
  },
  {
   "cell_type": "code",
   "execution_count": 4,
   "metadata": {},
   "outputs": [],
   "source": [
    "# Conversion of values with \"-\" into null\n",
    "case_df[\"latitude\"][(case_df[\"latitude\"] == \"-\")] = np.nan\n",
    "case_df[\"longitude\"][(case_df[\"longitude\"] == \"-\")] = np.nan\n",
    "case_df[\"city\"][(case_df[\"city\"] == \"-\")] = np.nan"
   ]
  },
  {
   "cell_type": "code",
   "execution_count": 5,
   "metadata": {},
   "outputs": [
    {
     "name": "stdout",
     "output_type": "stream",
     "text": [
      "<class 'pandas.core.frame.DataFrame'>\n",
      "RangeIndex: 174 entries, 0 to 173\n",
      "Data columns (total 8 columns):\n",
      " #   Column          Non-Null Count  Dtype \n",
      "---  ------          --------------  ----- \n",
      " 0   case_id         174 non-null    int64 \n",
      " 1   province        174 non-null    object\n",
      " 2   city            121 non-null    object\n",
      " 3   group           174 non-null    bool  \n",
      " 4   infection_case  174 non-null    object\n",
      " 5   confirmed       174 non-null    int64 \n",
      " 6   latitude        65 non-null     object\n",
      " 7   longitude       65 non-null     object\n",
      "dtypes: bool(1), int64(2), object(5)\n",
      "memory usage: 9.8+ KB\n"
     ]
    }
   ],
   "source": [
    "case_df.info()"
   ]
  },
  {
   "cell_type": "code",
   "execution_count": 6,
   "metadata": {},
   "outputs": [
    {
     "data": {
      "text/plain": [
       "case_id            0.00\n",
       "province           0.00\n",
       "city              30.46\n",
       "group              0.00\n",
       "infection_case     0.00\n",
       "confirmed          0.00\n",
       "latitude          62.64\n",
       "longitude         62.64\n",
       "dtype: float64"
      ]
     },
     "execution_count": 6,
     "metadata": {},
     "output_type": "execute_result"
    }
   ],
   "source": [
    "# Percentage of null values\n",
    "round(case_df.isna().sum()*100/len(case_df),2)"
   ]
  },
  {
   "cell_type": "markdown",
   "metadata": {},
   "source": [
    "- 30% of the \"city\" column is null values, no fill will be proceedure since it would increase the incertainty of the analysis."
   ]
  },
  {
   "cell_type": "code",
   "execution_count": 7,
   "metadata": {},
   "outputs": [
    {
     "data": {
      "text/html": [
       "<div>\n",
       "<style scoped>\n",
       "    .dataframe tbody tr th:only-of-type {\n",
       "        vertical-align: middle;\n",
       "    }\n",
       "\n",
       "    .dataframe tbody tr th {\n",
       "        vertical-align: top;\n",
       "    }\n",
       "\n",
       "    .dataframe thead th {\n",
       "        text-align: right;\n",
       "    }\n",
       "</style>\n",
       "<table border=\"1\" class=\"dataframe\">\n",
       "  <thead>\n",
       "    <tr style=\"text-align: right;\">\n",
       "      <th></th>\n",
       "      <th>case_id</th>\n",
       "      <th>confirmed</th>\n",
       "    </tr>\n",
       "  </thead>\n",
       "  <tbody>\n",
       "    <tr>\n",
       "      <th>count</th>\n",
       "      <td>174.00</td>\n",
       "      <td>174.00</td>\n",
       "    </tr>\n",
       "    <tr>\n",
       "      <th>mean</th>\n",
       "      <td>2686215.76</td>\n",
       "      <td>65.49</td>\n",
       "    </tr>\n",
       "    <tr>\n",
       "      <th>std</th>\n",
       "      <td>1943218.48</td>\n",
       "      <td>355.10</td>\n",
       "    </tr>\n",
       "    <tr>\n",
       "      <th>min</th>\n",
       "      <td>1000001.00</td>\n",
       "      <td>0.00</td>\n",
       "    </tr>\n",
       "    <tr>\n",
       "      <th>25%</th>\n",
       "      <td>1100006.25</td>\n",
       "      <td>4.00</td>\n",
       "    </tr>\n",
       "    <tr>\n",
       "      <th>50%</th>\n",
       "      <td>1700003.50</td>\n",
       "      <td>10.00</td>\n",
       "    </tr>\n",
       "    <tr>\n",
       "      <th>75%</th>\n",
       "      <td>4100003.75</td>\n",
       "      <td>31.75</td>\n",
       "    </tr>\n",
       "    <tr>\n",
       "      <th>max</th>\n",
       "      <td>7000004.00</td>\n",
       "      <td>4511.00</td>\n",
       "    </tr>\n",
       "  </tbody>\n",
       "</table>\n",
       "</div>"
      ],
      "text/plain": [
       "          case_id confirmed\n",
       "count      174.00    174.00\n",
       "mean   2686215.76     65.49\n",
       "std    1943218.48    355.10\n",
       "min    1000001.00      0.00\n",
       "25%    1100006.25      4.00\n",
       "50%    1700003.50     10.00\n",
       "75%    4100003.75     31.75\n",
       "max    7000004.00   4511.00"
      ]
     },
     "execution_count": 7,
     "metadata": {},
     "output_type": "execute_result"
    }
   ],
   "source": [
    "# Description of the numeric data\n",
    "case_df.describe().applymap(\"{:.2f}\".format)"
   ]
  },
  {
   "cell_type": "code",
   "execution_count": 8,
   "metadata": {},
   "outputs": [
    {
     "data": {
      "text/html": [
       "<div>\n",
       "<style scoped>\n",
       "    .dataframe tbody tr th:only-of-type {\n",
       "        vertical-align: middle;\n",
       "    }\n",
       "\n",
       "    .dataframe tbody tr th {\n",
       "        vertical-align: top;\n",
       "    }\n",
       "\n",
       "    .dataframe thead th {\n",
       "        text-align: right;\n",
       "    }\n",
       "</style>\n",
       "<table border=\"1\" class=\"dataframe\">\n",
       "  <thead>\n",
       "    <tr style=\"text-align: right;\">\n",
       "      <th></th>\n",
       "      <th>count</th>\n",
       "      <th>unique</th>\n",
       "      <th>top</th>\n",
       "      <th>freq</th>\n",
       "    </tr>\n",
       "  </thead>\n",
       "  <tbody>\n",
       "    <tr>\n",
       "      <th>province</th>\n",
       "      <td>174</td>\n",
       "      <td>17</td>\n",
       "      <td>Seoul</td>\n",
       "      <td>38</td>\n",
       "    </tr>\n",
       "    <tr>\n",
       "      <th>city</th>\n",
       "      <td>121</td>\n",
       "      <td>47</td>\n",
       "      <td>from other city</td>\n",
       "      <td>51</td>\n",
       "    </tr>\n",
       "    <tr>\n",
       "      <th>infection_case</th>\n",
       "      <td>174</td>\n",
       "      <td>81</td>\n",
       "      <td>etc</td>\n",
       "      <td>17</td>\n",
       "    </tr>\n",
       "    <tr>\n",
       "      <th>latitude</th>\n",
       "      <td>65</td>\n",
       "      <td>65</td>\n",
       "      <td>37.538621</td>\n",
       "      <td>1</td>\n",
       "    </tr>\n",
       "    <tr>\n",
       "      <th>longitude</th>\n",
       "      <td>65</td>\n",
       "      <td>65</td>\n",
       "      <td>126.992652</td>\n",
       "      <td>1</td>\n",
       "    </tr>\n",
       "  </tbody>\n",
       "</table>\n",
       "</div>"
      ],
      "text/plain": [
       "               count unique              top freq\n",
       "province         174     17            Seoul   38\n",
       "city             121     47  from other city   51\n",
       "infection_case   174     81              etc   17\n",
       "latitude          65     65        37.538621    1\n",
       "longitude         65     65       126.992652    1"
      ]
     },
     "execution_count": 8,
     "metadata": {},
     "output_type": "execute_result"
    }
   ],
   "source": [
    "# Description of the object data\n",
    "case_df.describe(include=[\"object\"]).T"
   ]
  },
  {
   "cell_type": "markdown",
   "metadata": {},
   "source": [
    "- In total we have 174 observations (group/non-group) from 17 provinces.\n",
    "- The maximal number of cases in a group is 4511.\n",
    "- 81 unique types of groups of cases (including non-groups)"
   ]
  },
  {
   "cell_type": "markdown",
   "metadata": {},
   "source": [
    "Which group generated the max number of cases?"
   ]
  },
  {
   "cell_type": "code",
   "execution_count": 9,
   "metadata": {
    "scrolled": true
   },
   "outputs": [
    {
     "data": {
      "text/html": [
       "<div>\n",
       "<style scoped>\n",
       "    .dataframe tbody tr th:only-of-type {\n",
       "        vertical-align: middle;\n",
       "    }\n",
       "\n",
       "    .dataframe tbody tr th {\n",
       "        vertical-align: top;\n",
       "    }\n",
       "\n",
       "    .dataframe thead th {\n",
       "        text-align: right;\n",
       "    }\n",
       "</style>\n",
       "<table border=\"1\" class=\"dataframe\">\n",
       "  <thead>\n",
       "    <tr style=\"text-align: right;\">\n",
       "      <th></th>\n",
       "      <th>case_id</th>\n",
       "      <th>province</th>\n",
       "      <th>city</th>\n",
       "      <th>group</th>\n",
       "      <th>infection_case</th>\n",
       "      <th>confirmed</th>\n",
       "      <th>latitude</th>\n",
       "      <th>longitude</th>\n",
       "    </tr>\n",
       "  </thead>\n",
       "  <tbody>\n",
       "    <tr>\n",
       "      <th>48</th>\n",
       "      <td>1200001</td>\n",
       "      <td>Daegu</td>\n",
       "      <td>Nam-gu</td>\n",
       "      <td>True</td>\n",
       "      <td>Shincheonji Church</td>\n",
       "      <td>4511</td>\n",
       "      <td>35.84008</td>\n",
       "      <td>128.5667</td>\n",
       "    </tr>\n",
       "  </tbody>\n",
       "</table>\n",
       "</div>"
      ],
      "text/plain": [
       "    case_id province    city  group      infection_case  confirmed  latitude  \\\n",
       "48  1200001    Daegu  Nam-gu   True  Shincheonji Church       4511  35.84008   \n",
       "\n",
       "   longitude  \n",
       "48  128.5667  "
      ]
     },
     "execution_count": 9,
     "metadata": {},
     "output_type": "execute_result"
    }
   ],
   "source": [
    "case_df[case_df['confirmed']==case_df['confirmed'].max()]"
   ]
  },
  {
   "cell_type": "markdown",
   "metadata": {},
   "source": [
    "- The maximum value of grouped infections belongs to the Shincheonji Church in Daegu."
   ]
  },
  {
   "cell_type": "code",
   "execution_count": 10,
   "metadata": {},
   "outputs": [
    {
     "data": {
      "image/png": "[encoded data removed]",
      "text/plain": [
       "<Figure size 300x400 with 1 Axes>"
      ]
     },
     "metadata": {},
     "output_type": "display_data"
    }
   ],
   "source": [
    "case_df['confirmed'].plot.box(figsize=(3, 4));"
   ]
  },
  {
   "cell_type": "markdown",
   "metadata": {},
   "source": [
    "- This value represents an obvious outlier. It is however a measured value that represents the reality. \n",
    "- No further outlier treatment is required here."
   ]
  },
  {
   "cell_type": "markdown",
   "metadata": {},
   "source": [
    "<h3 style=\"color:#BF4F51\">Patient Information</h3>"
   ]
  },
  {
   "cell_type": "markdown",
   "metadata": {},
   "source": [
    "- PatientInfo: Epidemiological data of COVID-19 patients in South Korea"
   ]
  },
  {
   "cell_type": "code",
   "execution_count": 11,
   "metadata": {},
   "outputs": [
    {
     "data": {
      "text/html": [
       "<div>\n",
       "<style scoped>\n",
       "    .dataframe tbody tr th:only-of-type {\n",
       "        vertical-align: middle;\n",
       "    }\n",
       "\n",
       "    .dataframe tbody tr th {\n",
       "        vertical-align: top;\n",
       "    }\n",
       "\n",
       "    .dataframe thead th {\n",
       "        text-align: right;\n",
       "    }\n",
       "</style>\n",
       "<table border=\"1\" class=\"dataframe\">\n",
       "  <thead>\n",
       "    <tr style=\"text-align: right;\">\n",
       "      <th></th>\n",
       "      <th>patient_id</th>\n",
       "      <th>sex</th>\n",
       "      <th>age</th>\n",
       "      <th>country</th>\n",
       "      <th>province</th>\n",
       "      <th>city</th>\n",
       "      <th>infection_case</th>\n",
       "      <th>infected_by</th>\n",
       "      <th>contact_number</th>\n",
       "      <th>symptom_onset_date</th>\n",
       "      <th>confirmed_date</th>\n",
       "      <th>released_date</th>\n",
       "      <th>deceased_date</th>\n",
       "      <th>state</th>\n",
       "    </tr>\n",
       "  </thead>\n",
       "  <tbody>\n",
       "    <tr>\n",
       "      <th>5159</th>\n",
       "      <td>7000000014</td>\n",
       "      <td>female</td>\n",
       "      <td>30s</td>\n",
       "      <td>Korea</td>\n",
       "      <td>Jeju-do</td>\n",
       "      <td>Jeju-do</td>\n",
       "      <td>Itaewon Clubs</td>\n",
       "      <td>NaN</td>\n",
       "      <td>140</td>\n",
       "      <td>NaN</td>\n",
       "      <td>2020-05-09</td>\n",
       "      <td>2020-06-12</td>\n",
       "      <td>NaN</td>\n",
       "      <td>released</td>\n",
       "    </tr>\n",
       "    <tr>\n",
       "      <th>5160</th>\n",
       "      <td>7000000015</td>\n",
       "      <td>female</td>\n",
       "      <td>30s</td>\n",
       "      <td>Korea</td>\n",
       "      <td>Jeju-do</td>\n",
       "      <td>Jeju-do</td>\n",
       "      <td>overseas inflow</td>\n",
       "      <td>NaN</td>\n",
       "      <td>25</td>\n",
       "      <td>NaN</td>\n",
       "      <td>2020-05-30</td>\n",
       "      <td>2020-06-13</td>\n",
       "      <td>NaN</td>\n",
       "      <td>released</td>\n",
       "    </tr>\n",
       "    <tr>\n",
       "      <th>5161</th>\n",
       "      <td>7000000016</td>\n",
       "      <td>NaN</td>\n",
       "      <td>NaN</td>\n",
       "      <td>Korea</td>\n",
       "      <td>Jeju-do</td>\n",
       "      <td>Jeju-do</td>\n",
       "      <td>overseas inflow</td>\n",
       "      <td>NaN</td>\n",
       "      <td>NaN</td>\n",
       "      <td>NaN</td>\n",
       "      <td>2020-06-16</td>\n",
       "      <td>2020-06-24</td>\n",
       "      <td>NaN</td>\n",
       "      <td>released</td>\n",
       "    </tr>\n",
       "    <tr>\n",
       "      <th>5162</th>\n",
       "      <td>7000000017</td>\n",
       "      <td>NaN</td>\n",
       "      <td>NaN</td>\n",
       "      <td>Bangladesh</td>\n",
       "      <td>Jeju-do</td>\n",
       "      <td>Jeju-do</td>\n",
       "      <td>overseas inflow</td>\n",
       "      <td>NaN</td>\n",
       "      <td>72</td>\n",
       "      <td>NaN</td>\n",
       "      <td>2020-06-18</td>\n",
       "      <td>NaN</td>\n",
       "      <td>NaN</td>\n",
       "      <td>isolated</td>\n",
       "    </tr>\n",
       "    <tr>\n",
       "      <th>5163</th>\n",
       "      <td>7000000018</td>\n",
       "      <td>NaN</td>\n",
       "      <td>NaN</td>\n",
       "      <td>Bangladesh</td>\n",
       "      <td>Jeju-do</td>\n",
       "      <td>Jeju-do</td>\n",
       "      <td>overseas inflow</td>\n",
       "      <td>NaN</td>\n",
       "      <td>NaN</td>\n",
       "      <td>NaN</td>\n",
       "      <td>2020-06-18</td>\n",
       "      <td>NaN</td>\n",
       "      <td>NaN</td>\n",
       "      <td>isolated</td>\n",
       "    </tr>\n",
       "    <tr>\n",
       "      <th>5164</th>\n",
       "      <td>7000000019</td>\n",
       "      <td>NaN</td>\n",
       "      <td>NaN</td>\n",
       "      <td>Bangladesh</td>\n",
       "      <td>Jeju-do</td>\n",
       "      <td>Jeju-do</td>\n",
       "      <td>overseas inflow</td>\n",
       "      <td>NaN</td>\n",
       "      <td>NaN</td>\n",
       "      <td>NaN</td>\n",
       "      <td>2020-06-18</td>\n",
       "      <td>NaN</td>\n",
       "      <td>NaN</td>\n",
       "      <td>isolated</td>\n",
       "    </tr>\n",
       "  </tbody>\n",
       "</table>\n",
       "</div>"
      ],
      "text/plain": [
       "      patient_id     sex  age     country province     city   infection_case  \\\n",
       "5159  7000000014  female  30s       Korea  Jeju-do  Jeju-do    Itaewon Clubs   \n",
       "5160  7000000015  female  30s       Korea  Jeju-do  Jeju-do  overseas inflow   \n",
       "5161  7000000016     NaN  NaN       Korea  Jeju-do  Jeju-do  overseas inflow   \n",
       "5162  7000000017     NaN  NaN  Bangladesh  Jeju-do  Jeju-do  overseas inflow   \n",
       "5163  7000000018     NaN  NaN  Bangladesh  Jeju-do  Jeju-do  overseas inflow   \n",
       "5164  7000000019     NaN  NaN  Bangladesh  Jeju-do  Jeju-do  overseas inflow   \n",
       "\n",
       "     infected_by contact_number symptom_onset_date confirmed_date  \\\n",
       "5159         NaN            140                NaN     2020-05-09   \n",
       "5160         NaN             25                NaN     2020-05-30   \n",
       "5161         NaN            NaN                NaN     2020-06-16   \n",
       "5162         NaN             72                NaN     2020-06-18   \n",
       "5163         NaN            NaN                NaN     2020-06-18   \n",
       "5164         NaN            NaN                NaN     2020-06-18   \n",
       "\n",
       "     released_date deceased_date     state  \n",
       "5159    2020-06-12           NaN  released  \n",
       "5160    2020-06-13           NaN  released  \n",
       "5161    2020-06-24           NaN  released  \n",
       "5162           NaN           NaN  isolated  \n",
       "5163           NaN           NaN  isolated  \n",
       "5164           NaN           NaN  isolated  "
      ]
     },
     "execution_count": 11,
     "metadata": {},
     "output_type": "execute_result"
    }
   ],
   "source": [
    "patient_info = df_dict['PatientInfo']\n",
    "patient_info.tail(6)"
   ]
  },
  {
   "cell_type": "markdown",
   "metadata": {},
   "source": [
    "- For this table the columns are more self-explanatory."
   ]
  },
  {
   "cell_type": "code",
   "execution_count": 12,
   "metadata": {},
   "outputs": [
    {
     "name": "stdout",
     "output_type": "stream",
     "text": [
      "<class 'pandas.core.frame.DataFrame'>\n",
      "RangeIndex: 5165 entries, 0 to 5164\n",
      "Data columns (total 14 columns):\n",
      " #   Column              Non-Null Count  Dtype \n",
      "---  ------              --------------  ----- \n",
      " 0   patient_id          5165 non-null   int64 \n",
      " 1   sex                 4043 non-null   object\n",
      " 2   age                 3785 non-null   object\n",
      " 3   country             5165 non-null   object\n",
      " 4   province            5165 non-null   object\n",
      " 5   city                5071 non-null   object\n",
      " 6   infection_case      4246 non-null   object\n",
      " 7   infected_by         1346 non-null   object\n",
      " 8   contact_number      791 non-null    object\n",
      " 9   symptom_onset_date  690 non-null    object\n",
      " 10  confirmed_date      5162 non-null   object\n",
      " 11  released_date       1587 non-null   object\n",
      " 12  deceased_date       66 non-null     object\n",
      " 13  state               5165 non-null   object\n",
      "dtypes: int64(1), object(13)\n",
      "memory usage: 565.0+ KB\n"
     ]
    }
   ],
   "source": [
    "patient_info.info()"
   ]
  },
  {
   "cell_type": "markdown",
   "metadata": {},
   "source": [
    "- The table posesses 5165 entries\n",
    "- Many features present null values"
   ]
  },
  {
   "cell_type": "markdown",
   "metadata": {},
   "source": [
    "Removal of the 's' from the age column"
   ]
  },
  {
   "cell_type": "code",
   "execution_count": 13,
   "metadata": {},
   "outputs": [],
   "source": [
    "patient_info['age'] = patient_info['age'].str.replace('s', '')"
   ]
  },
  {
   "cell_type": "markdown",
   "metadata": {},
   "source": [
    "<h4 style=\"color:#BF4F51\">Treating Null Values</h4>"
   ]
  },
  {
   "cell_type": "code",
   "execution_count": 14,
   "metadata": {},
   "outputs": [
    {
     "data": {
      "text/plain": [
       "patient_id             0.00\n",
       "sex                   21.72\n",
       "age                   26.72\n",
       "country                0.00\n",
       "province               0.00\n",
       "city                   1.82\n",
       "infection_case        17.79\n",
       "infected_by           73.94\n",
       "contact_number        84.69\n",
       "symptom_onset_date    86.64\n",
       "confirmed_date         0.06\n",
       "released_date         69.27\n",
       "deceased_date         98.72\n",
       "state                  0.00\n",
       "dtype: float64"
      ]
     },
     "execution_count": 14,
     "metadata": {},
     "output_type": "execute_result"
    }
   ],
   "source": [
    "# Percentage of null values\n",
    "round(patient_info.isna().sum()*100/len(patient_info),2)"
   ]
  },
  {
   "cell_type": "markdown",
   "metadata": {},
   "source": [
    "- Sex and age will not be filled (impossible to estimate a reliable value for these features)\n",
    "- Among the date columns, only \"confirmed_date\" will be filled."
   ]
  },
  {
   "cell_type": "markdown",
   "metadata": {},
   "source": [
    "- Only 2% percent of <b>\"city\"</b> is null\n",
    "- These values (in \"city\") will be filled with the mode for each province"
   ]
  },
  {
   "cell_type": "code",
   "execution_count": 15,
   "metadata": {},
   "outputs": [
    {
     "name": "stdout",
     "output_type": "stream",
     "text": [
      "{'Busan': 'Dongnae-gu', 'Daegu': 'Dalseo-gu', 'Gwangju': 'Gwangju', 'Incheon': 'Bupyeong-gu', 'Gyeongsangnam-do': 'Changwon-si'}\n"
     ]
    }
   ],
   "source": [
    "# Get the positions where city is null\n",
    "patient_city = patient_info[[\"city\"]].isnull()\n",
    "\n",
    "# define the provinces with city missing\n",
    "prov_list = patient_info[patient_city[\"city\"]][\"province\"].unique().tolist()\n",
    "\n",
    "mode_prov = {}  # dict with province:mode_city\n",
    "\n",
    "for prov in prov_list:\n",
    "    if prov == \"Gwangju\":  # this province/metropolis had only empty city values\n",
    "        mode_prov[\"Gwangju\"] = \"Gwangju\"\n",
    "    else:\n",
    "        # find the mode for the province in the list\n",
    "        mode_prov[prov] = (\n",
    "            patient_info[patient_info[\"province\"] == prov][\"city\"].mode().loc[0]\n",
    "        )\n",
    "print(mode_prov)"
   ]
  },
  {
   "cell_type": "code",
   "execution_count": 16,
   "metadata": {},
   "outputs": [
    {
     "data": {
      "text/html": [
       "<div>\n",
       "<style scoped>\n",
       "    .dataframe tbody tr th:only-of-type {\n",
       "        vertical-align: middle;\n",
       "    }\n",
       "\n",
       "    .dataframe tbody tr th {\n",
       "        vertical-align: top;\n",
       "    }\n",
       "\n",
       "    .dataframe thead th {\n",
       "        text-align: right;\n",
       "    }\n",
       "</style>\n",
       "<table border=\"1\" class=\"dataframe\">\n",
       "  <thead>\n",
       "    <tr style=\"text-align: right;\">\n",
       "      <th></th>\n",
       "      <th>patient_id</th>\n",
       "      <th>sex</th>\n",
       "      <th>age</th>\n",
       "      <th>country</th>\n",
       "      <th>province</th>\n",
       "      <th>city</th>\n",
       "      <th>infection_case</th>\n",
       "      <th>infected_by</th>\n",
       "      <th>contact_number</th>\n",
       "      <th>symptom_onset_date</th>\n",
       "      <th>confirmed_date</th>\n",
       "      <th>released_date</th>\n",
       "      <th>deceased_date</th>\n",
       "      <th>state</th>\n",
       "    </tr>\n",
       "  </thead>\n",
       "  <tbody>\n",
       "    <tr>\n",
       "      <th>1318</th>\n",
       "      <td>1100000007</td>\n",
       "      <td>male</td>\n",
       "      <td>20</td>\n",
       "      <td>China</td>\n",
       "      <td>Busan</td>\n",
       "      <td>Dongnae-gu</td>\n",
       "      <td>Shincheonji Church</td>\n",
       "      <td>NaN</td>\n",
       "      <td>485</td>\n",
       "      <td>NaN</td>\n",
       "      <td>2020-02-22</td>\n",
       "      <td>NaN</td>\n",
       "      <td>NaN</td>\n",
       "      <td>released</td>\n",
       "    </tr>\n",
       "    <tr>\n",
       "      <th>1463</th>\n",
       "      <td>1200000031</td>\n",
       "      <td>female</td>\n",
       "      <td>60</td>\n",
       "      <td>Korea</td>\n",
       "      <td>Daegu</td>\n",
       "      <td>Dalseo-gu</td>\n",
       "      <td>Shincheonji Church</td>\n",
       "      <td>NaN</td>\n",
       "      <td>1160</td>\n",
       "      <td>NaN</td>\n",
       "      <td>2020-02-18</td>\n",
       "      <td>NaN</td>\n",
       "      <td>NaN</td>\n",
       "      <td>isolated</td>\n",
       "    </tr>\n",
       "    <tr>\n",
       "      <th>1474</th>\n",
       "      <td>1200000047</td>\n",
       "      <td>female</td>\n",
       "      <td>60</td>\n",
       "      <td>Korea</td>\n",
       "      <td>Daegu</td>\n",
       "      <td>Dalseo-gu</td>\n",
       "      <td>Shincheonji Church</td>\n",
       "      <td>1200000031</td>\n",
       "      <td>NaN</td>\n",
       "      <td>NaN</td>\n",
       "      <td>2020-02-19</td>\n",
       "      <td>NaN</td>\n",
       "      <td>NaN</td>\n",
       "      <td>isolated</td>\n",
       "    </tr>\n",
       "    <tr>\n",
       "      <th>1475</th>\n",
       "      <td>1200000048</td>\n",
       "      <td>female</td>\n",
       "      <td>70</td>\n",
       "      <td>Korea</td>\n",
       "      <td>Daegu</td>\n",
       "      <td>Dalseo-gu</td>\n",
       "      <td>Shincheonji Church</td>\n",
       "      <td>1200000031</td>\n",
       "      <td>NaN</td>\n",
       "      <td>NaN</td>\n",
       "      <td>2020-02-19</td>\n",
       "      <td>NaN</td>\n",
       "      <td>NaN</td>\n",
       "      <td>isolated</td>\n",
       "    </tr>\n",
       "    <tr>\n",
       "      <th>1476</th>\n",
       "      <td>1200000049</td>\n",
       "      <td>male</td>\n",
       "      <td>50</td>\n",
       "      <td>Korea</td>\n",
       "      <td>Daegu</td>\n",
       "      <td>Dalseo-gu</td>\n",
       "      <td>Shincheonji Church</td>\n",
       "      <td>1200000031</td>\n",
       "      <td>NaN</td>\n",
       "      <td>NaN</td>\n",
       "      <td>2020-02-19</td>\n",
       "      <td>NaN</td>\n",
       "      <td>NaN</td>\n",
       "      <td>isolated</td>\n",
       "    </tr>\n",
       "  </tbody>\n",
       "</table>\n",
       "</div>"
      ],
      "text/plain": [
       "      patient_id     sex age country province        city      infection_case  \\\n",
       "1318  1100000007    male  20   China    Busan  Dongnae-gu  Shincheonji Church   \n",
       "1463  1200000031  female  60   Korea    Daegu   Dalseo-gu  Shincheonji Church   \n",
       "1474  1200000047  female  60   Korea    Daegu   Dalseo-gu  Shincheonji Church   \n",
       "1475  1200000048  female  70   Korea    Daegu   Dalseo-gu  Shincheonji Church   \n",
       "1476  1200000049    male  50   Korea    Daegu   Dalseo-gu  Shincheonji Church   \n",
       "\n",
       "     infected_by contact_number symptom_onset_date confirmed_date  \\\n",
       "1318         NaN            485                NaN     2020-02-22   \n",
       "1463         NaN           1160                NaN     2020-02-18   \n",
       "1474  1200000031            NaN                NaN     2020-02-19   \n",
       "1475  1200000031            NaN                NaN     2020-02-19   \n",
       "1476  1200000031            NaN                NaN     2020-02-19   \n",
       "\n",
       "     released_date deceased_date     state  \n",
       "1318           NaN           NaN  released  \n",
       "1463           NaN           NaN  isolated  \n",
       "1474           NaN           NaN  isolated  \n",
       "1475           NaN           NaN  isolated  \n",
       "1476           NaN           NaN  isolated  "
      ]
     },
     "execution_count": 16,
     "metadata": {},
     "output_type": "execute_result"
    }
   ],
   "source": [
    "# Fill the null with dict values\n",
    "patient_info['city'].fillna(patient_info['province'].map(mode_prov), inplace=True)\n",
    "patient_info[patient_city[\"city\"]].head(5)"
   ]
  },
  {
   "cell_type": "markdown",
   "metadata": {},
   "source": [
    "- Null <b>\"infection_case\"</b> will be filled with \"unkown\""
   ]
  },
  {
   "cell_type": "code",
   "execution_count": 17,
   "metadata": {},
   "outputs": [],
   "source": [
    "patient_info['infection_case']=patient_info['infection_case'].fillna('unknown')"
   ]
  },
  {
   "cell_type": "markdown",
   "metadata": {},
   "source": [
    "- <b>\"contact_number\"</b> will be converted into numerical"
   ]
  },
  {
   "cell_type": "code",
   "execution_count": 18,
   "metadata": {},
   "outputs": [],
   "source": [
    "patient_info[\"contact_number\"][(patient_info[\"contact_number\"]  == \"-\")] = np.nan\n",
    "patient_info[\"contact_number\"] = patient_info[\"contact_number\"].astype('float')"
   ]
  },
  {
   "cell_type": "markdown",
   "metadata": {},
   "source": [
    "- Sort the values of \"contact_number\" to search for outliers."
   ]
  },
  {
   "cell_type": "code",
   "execution_count": 19,
   "metadata": {},
   "outputs": [
    {
     "data": {
      "text/html": [
       "<div>\n",
       "<style scoped>\n",
       "    .dataframe tbody tr th:only-of-type {\n",
       "        vertical-align: middle;\n",
       "    }\n",
       "\n",
       "    .dataframe tbody tr th {\n",
       "        vertical-align: top;\n",
       "    }\n",
       "\n",
       "    .dataframe thead th {\n",
       "        text-align: right;\n",
       "    }\n",
       "</style>\n",
       "<table border=\"1\" class=\"dataframe\">\n",
       "  <thead>\n",
       "    <tr style=\"text-align: right;\">\n",
       "      <th></th>\n",
       "      <th>patient_id</th>\n",
       "      <th>sex</th>\n",
       "      <th>age</th>\n",
       "      <th>country</th>\n",
       "      <th>province</th>\n",
       "      <th>city</th>\n",
       "      <th>infection_case</th>\n",
       "      <th>infected_by</th>\n",
       "      <th>contact_number</th>\n",
       "      <th>symptom_onset_date</th>\n",
       "      <th>confirmed_date</th>\n",
       "      <th>released_date</th>\n",
       "      <th>deceased_date</th>\n",
       "      <th>state</th>\n",
       "    </tr>\n",
       "  </thead>\n",
       "  <tbody>\n",
       "    <tr>\n",
       "      <th>5110</th>\n",
       "      <td>6100000098</td>\n",
       "      <td>male</td>\n",
       "      <td>60</td>\n",
       "      <td>Korea</td>\n",
       "      <td>Gyeongsangnam-do</td>\n",
       "      <td>Jinju-si</td>\n",
       "      <td>etc</td>\n",
       "      <td>6100000097</td>\n",
       "      <td>6.100000e+09</td>\n",
       "      <td>2020-03-28</td>\n",
       "      <td>2020-03-31</td>\n",
       "      <td>NaN</td>\n",
       "      <td>NaN</td>\n",
       "      <td>released</td>\n",
       "    </tr>\n",
       "    <tr>\n",
       "      <th>5109</th>\n",
       "      <td>6100000097</td>\n",
       "      <td>female</td>\n",
       "      <td>60</td>\n",
       "      <td>Korea</td>\n",
       "      <td>Gyeongsangnam-do</td>\n",
       "      <td>Jinju-si</td>\n",
       "      <td>etc</td>\n",
       "      <td>NaN</td>\n",
       "      <td>6.100000e+09</td>\n",
       "      <td>2020-03-26</td>\n",
       "      <td>2020-03-31</td>\n",
       "      <td>NaN</td>\n",
       "      <td>NaN</td>\n",
       "      <td>released</td>\n",
       "    </tr>\n",
       "    <tr>\n",
       "      <th>818</th>\n",
       "      <td>1000000819</td>\n",
       "      <td>NaN</td>\n",
       "      <td>NaN</td>\n",
       "      <td>Korea</td>\n",
       "      <td>Seoul</td>\n",
       "      <td>Eunpyeong-gu</td>\n",
       "      <td>unknown</td>\n",
       "      <td>NaN</td>\n",
       "      <td>1.000001e+09</td>\n",
       "      <td>NaN</td>\n",
       "      <td>2020-05-27</td>\n",
       "      <td>NaN</td>\n",
       "      <td>NaN</td>\n",
       "      <td>released</td>\n",
       "    </tr>\n",
       "    <tr>\n",
       "      <th>1463</th>\n",
       "      <td>1200000031</td>\n",
       "      <td>female</td>\n",
       "      <td>60</td>\n",
       "      <td>Korea</td>\n",
       "      <td>Daegu</td>\n",
       "      <td>Dalseo-gu</td>\n",
       "      <td>Shincheonji Church</td>\n",
       "      <td>NaN</td>\n",
       "      <td>1.160000e+03</td>\n",
       "      <td>NaN</td>\n",
       "      <td>2020-02-18</td>\n",
       "      <td>NaN</td>\n",
       "      <td>NaN</td>\n",
       "      <td>isolated</td>\n",
       "    </tr>\n",
       "    <tr>\n",
       "      <th>1312</th>\n",
       "      <td>1100000001</td>\n",
       "      <td>male</td>\n",
       "      <td>10</td>\n",
       "      <td>Korea</td>\n",
       "      <td>Busan</td>\n",
       "      <td>Dongnae-gu</td>\n",
       "      <td>Onchun Church</td>\n",
       "      <td>NaN</td>\n",
       "      <td>1.091000e+03</td>\n",
       "      <td>NaN</td>\n",
       "      <td>2020-02-21</td>\n",
       "      <td>NaN</td>\n",
       "      <td>NaN</td>\n",
       "      <td>released</td>\n",
       "    </tr>\n",
       "    <tr>\n",
       "      <th>1318</th>\n",
       "      <td>1100000007</td>\n",
       "      <td>male</td>\n",
       "      <td>20</td>\n",
       "      <td>China</td>\n",
       "      <td>Busan</td>\n",
       "      <td>Dongnae-gu</td>\n",
       "      <td>Shincheonji Church</td>\n",
       "      <td>NaN</td>\n",
       "      <td>4.850000e+02</td>\n",
       "      <td>NaN</td>\n",
       "      <td>2020-02-22</td>\n",
       "      <td>NaN</td>\n",
       "      <td>NaN</td>\n",
       "      <td>released</td>\n",
       "    </tr>\n",
       "    <tr>\n",
       "      <th>1600</th>\n",
       "      <td>1300000001</td>\n",
       "      <td>female</td>\n",
       "      <td>40</td>\n",
       "      <td>Korea</td>\n",
       "      <td>Gwangju</td>\n",
       "      <td>Gwangju</td>\n",
       "      <td>overseas inflow</td>\n",
       "      <td>NaN</td>\n",
       "      <td>4.500000e+02</td>\n",
       "      <td>2020-01-27</td>\n",
       "      <td>2020-02-03</td>\n",
       "      <td>2020-02-20</td>\n",
       "      <td>NaN</td>\n",
       "      <td>released</td>\n",
       "    </tr>\n",
       "  </tbody>\n",
       "</table>\n",
       "</div>"
      ],
      "text/plain": [
       "      patient_id     sex  age country          province          city  \\\n",
       "5110  6100000098    male   60   Korea  Gyeongsangnam-do      Jinju-si   \n",
       "5109  6100000097  female   60   Korea  Gyeongsangnam-do      Jinju-si   \n",
       "818   1000000819     NaN  NaN   Korea             Seoul  Eunpyeong-gu   \n",
       "1463  1200000031  female   60   Korea             Daegu     Dalseo-gu   \n",
       "1312  1100000001    male   10   Korea             Busan    Dongnae-gu   \n",
       "1318  1100000007    male   20   China             Busan    Dongnae-gu   \n",
       "1600  1300000001  female   40   Korea           Gwangju       Gwangju   \n",
       "\n",
       "          infection_case infected_by  contact_number symptom_onset_date  \\\n",
       "5110                 etc  6100000097    6.100000e+09         2020-03-28   \n",
       "5109                 etc         NaN    6.100000e+09         2020-03-26   \n",
       "818              unknown         NaN    1.000001e+09                NaN   \n",
       "1463  Shincheonji Church         NaN    1.160000e+03                NaN   \n",
       "1312       Onchun Church         NaN    1.091000e+03                NaN   \n",
       "1318  Shincheonji Church         NaN    4.850000e+02                NaN   \n",
       "1600     overseas inflow         NaN    4.500000e+02         2020-01-27   \n",
       "\n",
       "     confirmed_date released_date deceased_date     state  \n",
       "5110     2020-03-31           NaN           NaN  released  \n",
       "5109     2020-03-31           NaN           NaN  released  \n",
       "818      2020-05-27           NaN           NaN  released  \n",
       "1463     2020-02-18           NaN           NaN  isolated  \n",
       "1312     2020-02-21           NaN           NaN  released  \n",
       "1318     2020-02-22           NaN           NaN  released  \n",
       "1600     2020-02-03    2020-02-20           NaN  released  "
      ]
     },
     "execution_count": 19,
     "metadata": {},
     "output_type": "execute_result"
    }
   ],
   "source": [
    "patient_info.sort_values(by=\"contact_number\", ascending=False).head(7)"
   ]
  },
  {
   "cell_type": "markdown",
   "metadata": {},
   "source": [
    "- The first 3 values represent clear wrong input in the system (Contact with more than 1 billion people?). They will be replaced by null values.\n",
    "- The 2 values over 1000 contacts also seem high, but could be normal for a church in february, depending on its size."
   ]
  },
  {
   "cell_type": "code",
   "execution_count": 20,
   "metadata": {},
   "outputs": [],
   "source": [
    "# Replace of outliers by null values in \"contact_number\"\n",
    "patient_info.loc[[5110,5109,818],\"contact_number\"] = np.nan"
   ]
  },
  {
   "cell_type": "markdown",
   "metadata": {},
   "source": [
    "- The only other null values that we want to replace are in <b>\"confirmed_date\"</b>"
   ]
  },
  {
   "cell_type": "code",
   "execution_count": 21,
   "metadata": {},
   "outputs": [
    {
     "data": {
      "text/html": [
       "<div>\n",
       "<style scoped>\n",
       "    .dataframe tbody tr th:only-of-type {\n",
       "        vertical-align: middle;\n",
       "    }\n",
       "\n",
       "    .dataframe tbody tr th {\n",
       "        vertical-align: top;\n",
       "    }\n",
       "\n",
       "    .dataframe thead th {\n",
       "        text-align: right;\n",
       "    }\n",
       "</style>\n",
       "<table border=\"1\" class=\"dataframe\">\n",
       "  <thead>\n",
       "    <tr style=\"text-align: right;\">\n",
       "      <th></th>\n",
       "      <th>patient_id</th>\n",
       "      <th>sex</th>\n",
       "      <th>age</th>\n",
       "      <th>country</th>\n",
       "      <th>province</th>\n",
       "      <th>city</th>\n",
       "      <th>infection_case</th>\n",
       "      <th>infected_by</th>\n",
       "      <th>contact_number</th>\n",
       "      <th>symptom_onset_date</th>\n",
       "      <th>confirmed_date</th>\n",
       "      <th>released_date</th>\n",
       "      <th>deceased_date</th>\n",
       "      <th>state</th>\n",
       "    </tr>\n",
       "  </thead>\n",
       "  <tbody>\n",
       "    <tr>\n",
       "      <th>4730</th>\n",
       "      <td>6011000051</td>\n",
       "      <td>female</td>\n",
       "      <td>40</td>\n",
       "      <td>Korea</td>\n",
       "      <td>Gyeongsangbuk-do</td>\n",
       "      <td>Andong-si</td>\n",
       "      <td>etc</td>\n",
       "      <td>NaN</td>\n",
       "      <td>NaN</td>\n",
       "      <td>NaN</td>\n",
       "      <td>NaN</td>\n",
       "      <td>NaN</td>\n",
       "      <td>NaN</td>\n",
       "      <td>released</td>\n",
       "    </tr>\n",
       "    <tr>\n",
       "      <th>4731</th>\n",
       "      <td>6011000052</td>\n",
       "      <td>female</td>\n",
       "      <td>0</td>\n",
       "      <td>Korea</td>\n",
       "      <td>Gyeongsangbuk-do</td>\n",
       "      <td>Andong-si</td>\n",
       "      <td>etc</td>\n",
       "      <td>NaN</td>\n",
       "      <td>NaN</td>\n",
       "      <td>NaN</td>\n",
       "      <td>NaN</td>\n",
       "      <td>NaN</td>\n",
       "      <td>NaN</td>\n",
       "      <td>released</td>\n",
       "    </tr>\n",
       "    <tr>\n",
       "      <th>4732</th>\n",
       "      <td>6011000053</td>\n",
       "      <td>female</td>\n",
       "      <td>10</td>\n",
       "      <td>Korea</td>\n",
       "      <td>Gyeongsangbuk-do</td>\n",
       "      <td>Andong-si</td>\n",
       "      <td>etc</td>\n",
       "      <td>NaN</td>\n",
       "      <td>NaN</td>\n",
       "      <td>2020-04-15</td>\n",
       "      <td>NaN</td>\n",
       "      <td>NaN</td>\n",
       "      <td>NaN</td>\n",
       "      <td>released</td>\n",
       "    </tr>\n",
       "  </tbody>\n",
       "</table>\n",
       "</div>"
      ],
      "text/plain": [
       "      patient_id     sex age country          province       city  \\\n",
       "4730  6011000051  female  40   Korea  Gyeongsangbuk-do  Andong-si   \n",
       "4731  6011000052  female   0   Korea  Gyeongsangbuk-do  Andong-si   \n",
       "4732  6011000053  female  10   Korea  Gyeongsangbuk-do  Andong-si   \n",
       "\n",
       "     infection_case infected_by  contact_number symptom_onset_date  \\\n",
       "4730            etc         NaN             NaN                NaN   \n",
       "4731            etc         NaN             NaN                NaN   \n",
       "4732            etc         NaN             NaN         2020-04-15   \n",
       "\n",
       "     confirmed_date released_date deceased_date     state  \n",
       "4730            NaN           NaN           NaN  released  \n",
       "4731            NaN           NaN           NaN  released  \n",
       "4732            NaN           NaN           NaN  released  "
      ]
     },
     "execution_count": 21,
     "metadata": {},
     "output_type": "execute_result"
    }
   ],
   "source": [
    "patient_info[patient_info['confirmed_date'].isnull()]"
   ]
  },
  {
   "cell_type": "markdown",
   "metadata": {},
   "source": [
    "- These only 3 values will be replace with a date 3 days after the \"symptom_onset_date\" for the 3rd row.\n",
    "- By checking the other rows I realized that the index was not necessarily organized by date, so it made more sense to fill with a fixed value."
   ]
  },
  {
   "cell_type": "code",
   "execution_count": 22,
   "metadata": {},
   "outputs": [],
   "source": [
    "patient_info['confirmed_date'].fillna('2020-04-18', inplace=True)"
   ]
  },
  {
   "cell_type": "code",
   "execution_count": 23,
   "metadata": {},
   "outputs": [
    {
     "data": {
      "text/plain": [
       "patient_id             0.00\n",
       "sex                   21.72\n",
       "age                   26.72\n",
       "country                0.00\n",
       "province               0.00\n",
       "city                   0.00\n",
       "infection_case         0.00\n",
       "infected_by           73.94\n",
       "contact_number        84.82\n",
       "symptom_onset_date    86.64\n",
       "confirmed_date         0.00\n",
       "released_date         69.27\n",
       "deceased_date         98.72\n",
       "state                  0.00\n",
       "dtype: float64"
      ]
     },
     "execution_count": 23,
     "metadata": {},
     "output_type": "execute_result"
    }
   ],
   "source": [
    "round(patient_info.isna().sum()*100/len(patient_info),2)"
   ]
  },
  {
   "cell_type": "markdown",
   "metadata": {},
   "source": [
    "<h3 style=\"color:#BF4F51\">Time Series Dataframes</h3>"
   ]
  },
  {
   "cell_type": "markdown",
   "metadata": {},
   "source": [
    "- Time: Time series data of COVID-19 status in South Korea\n",
    "- TimeAge: Time series data of COVID-19 status in terms of the age in South Korea\n",
    "- TimeGender: Time series data of COVID-19 status in terms of gender in South Korea\n",
    "- TimeProvince: Time series data of COVID-19 status in terms of the Province in South Korea"
   ]
  },
  {
   "cell_type": "markdown",
   "metadata": {},
   "source": [
    "Let's get an overview of the shape of all the time dataframes"
   ]
  },
  {
   "cell_type": "code",
   "execution_count": 24,
   "metadata": {},
   "outputs": [
    {
     "name": "stdout",
     "output_type": "stream",
     "text": [
      " Dataframe      shape\n",
      " Time:         (163, 7)\n",
      " TimeAge:      (1089, 5)\n",
      " TimeGender:   (242, 5)\n",
      " TimeProvince: (2771, 6)\n"
     ]
    }
   ],
   "source": [
    "print(\n",
    "    \" Dataframe      shape\\n\",\n",
    "    f\"Time:         {df_dict['Time'].shape}\\n\",\n",
    "    f\"TimeAge:      {df_dict['TimeAge'].shape}\\n\",\n",
    "    f\"TimeGender:   {df_dict['TimeGender'].shape}\\n\",\n",
    "    f\"TimeProvince: {df_dict['TimeProvince'].shape}\",\n",
    ")"
   ]
  },
  {
   "cell_type": "markdown",
   "metadata": {},
   "source": [
    "As expected their shape is different because of the classifications that were carried out in each dataframe."
   ]
  },
  {
   "cell_type": "code",
   "execution_count": 25,
   "metadata": {},
   "outputs": [
    {
     "data": {
      "text/html": [
       "<div>\n",
       "<style scoped>\n",
       "    .dataframe tbody tr th:only-of-type {\n",
       "        vertical-align: middle;\n",
       "    }\n",
       "\n",
       "    .dataframe tbody tr th {\n",
       "        vertical-align: top;\n",
       "    }\n",
       "\n",
       "    .dataframe thead th {\n",
       "        text-align: right;\n",
       "    }\n",
       "</style>\n",
       "<table border=\"1\" class=\"dataframe\">\n",
       "  <thead>\n",
       "    <tr style=\"text-align: right;\">\n",
       "      <th></th>\n",
       "      <th>date</th>\n",
       "      <th>time</th>\n",
       "      <th>test</th>\n",
       "      <th>negative</th>\n",
       "      <th>confirmed</th>\n",
       "      <th>released</th>\n",
       "      <th>deceased</th>\n",
       "    </tr>\n",
       "  </thead>\n",
       "  <tbody>\n",
       "    <tr>\n",
       "      <th>0</th>\n",
       "      <td>2020-01-20</td>\n",
       "      <td>16</td>\n",
       "      <td>1</td>\n",
       "      <td>0</td>\n",
       "      <td>1</td>\n",
       "      <td>0</td>\n",
       "      <td>0</td>\n",
       "    </tr>\n",
       "    <tr>\n",
       "      <th>1</th>\n",
       "      <td>2020-01-21</td>\n",
       "      <td>16</td>\n",
       "      <td>1</td>\n",
       "      <td>0</td>\n",
       "      <td>1</td>\n",
       "      <td>0</td>\n",
       "      <td>0</td>\n",
       "    </tr>\n",
       "    <tr>\n",
       "      <th>2</th>\n",
       "      <td>2020-01-22</td>\n",
       "      <td>16</td>\n",
       "      <td>4</td>\n",
       "      <td>3</td>\n",
       "      <td>1</td>\n",
       "      <td>0</td>\n",
       "      <td>0</td>\n",
       "    </tr>\n",
       "    <tr>\n",
       "      <th>3</th>\n",
       "      <td>2020-01-23</td>\n",
       "      <td>16</td>\n",
       "      <td>22</td>\n",
       "      <td>21</td>\n",
       "      <td>1</td>\n",
       "      <td>0</td>\n",
       "      <td>0</td>\n",
       "    </tr>\n",
       "    <tr>\n",
       "      <th>4</th>\n",
       "      <td>2020-01-24</td>\n",
       "      <td>16</td>\n",
       "      <td>27</td>\n",
       "      <td>25</td>\n",
       "      <td>2</td>\n",
       "      <td>0</td>\n",
       "      <td>0</td>\n",
       "    </tr>\n",
       "  </tbody>\n",
       "</table>\n",
       "</div>"
      ],
      "text/plain": [
       "         date  time  test  negative  confirmed  released  deceased\n",
       "0  2020-01-20    16     1         0          1         0         0\n",
       "1  2020-01-21    16     1         0          1         0         0\n",
       "2  2020-01-22    16     4         3          1         0         0\n",
       "3  2020-01-23    16    22        21          1         0         0\n",
       "4  2020-01-24    16    27        25          2         0         0"
      ]
     },
     "execution_count": 25,
     "metadata": {},
     "output_type": "execute_result"
    }
   ],
   "source": [
    "df_dict[\"Time\"].head()"
   ]
  },
  {
   "cell_type": "markdown",
   "metadata": {},
   "source": [
    "- These \"Time\" tables represent accumulated values of cases per day\n",
    "- \"time\" column is irrelevant for the analysis --> Some days were stored at 16:00 (beginning), some at 00:00.\n",
    "- For the other tables, the grouping is made by Age Group, Sex, or Province."
   ]
  },
  {
   "cell_type": "code",
   "execution_count": 26,
   "metadata": {},
   "outputs": [
    {
     "name": "stdout",
     "output_type": "stream",
     "text": [
      "<class 'pandas.core.frame.DataFrame'>\n",
      "RangeIndex: 163 entries, 0 to 162\n",
      "Data columns (total 7 columns):\n",
      " #   Column     Non-Null Count  Dtype \n",
      "---  ------     --------------  ----- \n",
      " 0   date       163 non-null    object\n",
      " 1   time       163 non-null    int64 \n",
      " 2   test       163 non-null    int64 \n",
      " 3   negative   163 non-null    int64 \n",
      " 4   confirmed  163 non-null    int64 \n",
      " 5   released   163 non-null    int64 \n",
      " 6   deceased   163 non-null    int64 \n",
      "dtypes: int64(6), object(1)\n",
      "memory usage: 9.0+ KB\n"
     ]
    }
   ],
   "source": [
    "df_dict[\"Time\"].info()\n",
    "#df_dict['TimeAge'].info()\n",
    "#df_dict['TimeGender'].info()\n",
    "#df_dict['TimeProvince'].info()"
   ]
  },
  {
   "cell_type": "markdown",
   "metadata": {},
   "source": [
    "- The time dataframe has 163 rows with valid values.\n",
    "- None of these 4 \"Time\" dataframes presents Null values.\n",
    "- 'date' column should be converted (In the main notebook)."
   ]
  },
  {
   "cell_type": "markdown",
   "metadata": {},
   "source": [
    "Let's make references for these dataframes outside of the dictionary.\n",
    "'Time' column will be dropped."
   ]
  },
  {
   "cell_type": "code",
   "execution_count": 27,
   "metadata": {},
   "outputs": [],
   "source": [
    "time_df = df_dict[\"Time\"]\n",
    "time_age = df_dict[\"TimeAge\"]\n",
    "time_gender = df_dict[\"TimeGender\"]\n",
    "time_province = df_dict[\"TimeProvince\"]"
   ]
  },
  {
   "cell_type": "code",
   "execution_count": 28,
   "metadata": {},
   "outputs": [],
   "source": [
    "time_df.drop(\"time\", axis=1, inplace=True)\n",
    "time_age.drop(\"time\", axis=1, inplace=True)\n",
    "time_gender.drop(\"time\", axis=1, inplace=True)\n",
    "time_province.drop(\"time\", axis=1, inplace=True)"
   ]
  },
  {
   "cell_type": "code",
   "execution_count": 29,
   "metadata": {
    "scrolled": true
   },
   "outputs": [
    {
     "data": {
      "text/html": [
       "<div>\n",
       "<style scoped>\n",
       "    .dataframe tbody tr th:only-of-type {\n",
       "        vertical-align: middle;\n",
       "    }\n",
       "\n",
       "    .dataframe tbody tr th {\n",
       "        vertical-align: top;\n",
       "    }\n",
       "\n",
       "    .dataframe thead th {\n",
       "        text-align: right;\n",
       "    }\n",
       "</style>\n",
       "<table border=\"1\" class=\"dataframe\">\n",
       "  <thead>\n",
       "    <tr style=\"text-align: right;\">\n",
       "      <th></th>\n",
       "      <th>date</th>\n",
       "      <th>test</th>\n",
       "      <th>negative</th>\n",
       "      <th>confirmed</th>\n",
       "      <th>released</th>\n",
       "      <th>deceased</th>\n",
       "    </tr>\n",
       "  </thead>\n",
       "  <tbody>\n",
       "    <tr>\n",
       "      <th>0</th>\n",
       "      <td>2020-01-20</td>\n",
       "      <td>1</td>\n",
       "      <td>0</td>\n",
       "      <td>1</td>\n",
       "      <td>0</td>\n",
       "      <td>0</td>\n",
       "    </tr>\n",
       "    <tr>\n",
       "      <th>1</th>\n",
       "      <td>2020-01-21</td>\n",
       "      <td>1</td>\n",
       "      <td>0</td>\n",
       "      <td>1</td>\n",
       "      <td>0</td>\n",
       "      <td>0</td>\n",
       "    </tr>\n",
       "    <tr>\n",
       "      <th>2</th>\n",
       "      <td>2020-01-22</td>\n",
       "      <td>4</td>\n",
       "      <td>3</td>\n",
       "      <td>1</td>\n",
       "      <td>0</td>\n",
       "      <td>0</td>\n",
       "    </tr>\n",
       "    <tr>\n",
       "      <th>3</th>\n",
       "      <td>2020-01-23</td>\n",
       "      <td>22</td>\n",
       "      <td>21</td>\n",
       "      <td>1</td>\n",
       "      <td>0</td>\n",
       "      <td>0</td>\n",
       "    </tr>\n",
       "    <tr>\n",
       "      <th>4</th>\n",
       "      <td>2020-01-24</td>\n",
       "      <td>27</td>\n",
       "      <td>25</td>\n",
       "      <td>2</td>\n",
       "      <td>0</td>\n",
       "      <td>0</td>\n",
       "    </tr>\n",
       "  </tbody>\n",
       "</table>\n",
       "</div>"
      ],
      "text/plain": [
       "         date  test  negative  confirmed  released  deceased\n",
       "0  2020-01-20     1         0          1         0         0\n",
       "1  2020-01-21     1         0          1         0         0\n",
       "2  2020-01-22     4         3          1         0         0\n",
       "3  2020-01-23    22        21          1         0         0\n",
       "4  2020-01-24    27        25          2         0         0"
      ]
     },
     "execution_count": 29,
     "metadata": {},
     "output_type": "execute_result"
    }
   ],
   "source": [
    "time_df.head(5)\n",
    "#time_age.head(2)\n",
    "#time_gender.head(2)\n",
    "#time_province.head(2)"
   ]
  },
  {
   "cell_type": "markdown",
   "metadata": {},
   "source": [
    "For the 'TimeAge' dataframe a removal of the 's' from the age column will be proceeded"
   ]
  },
  {
   "cell_type": "code",
   "execution_count": 30,
   "metadata": {},
   "outputs": [],
   "source": [
    "time_age['age'] = time_age['age'].str.replace('s', '')"
   ]
  },
  {
   "cell_type": "markdown",
   "metadata": {},
   "source": [
    "The function \"describe()\" could be carried out, but as we have accumulated values over time, the results of the description could be missleading. The maximum values for each features give us however some insights."
   ]
  },
  {
   "cell_type": "code",
   "execution_count": 31,
   "metadata": {},
   "outputs": [
    {
     "data": {
      "text/plain": [
       "date         2020-06-30\n",
       "test            1273766\n",
       "negative        1240157\n",
       "confirmed         12800\n",
       "released          11537\n",
       "deceased            282\n",
       "dtype: object"
      ]
     },
     "execution_count": 31,
     "metadata": {},
     "output_type": "execute_result"
    }
   ],
   "source": [
    "#time_df.describe().applymap(\"{:.2f}\".format)\n",
    "time_df.max()"
   ]
  },
  {
   "cell_type": "markdown",
   "metadata": {},
   "source": [
    "A total of 12,800 confirmed cases and 282 deaths are presented in the dataset."
   ]
  },
  {
   "cell_type": "markdown",
   "metadata": {},
   "source": [
    "Do all the \"Time\" dataframes present the same number of confirmed cases?"
   ]
  },
  {
   "cell_type": "code",
   "execution_count": 32,
   "metadata": {},
   "outputs": [
    {
     "name": "stdout",
     "output_type": "stream",
     "text": [
      "Dataframe     Confirmed cases\n",
      "Time          12800\n",
      "TimeAge       12800\n",
      "TimeGender    12800\n",
      "TimeProvince  12076\n"
     ]
    }
   ],
   "source": [
    "print(\"Dataframe     Confirmed cases\")\n",
    "print(f\"Time          {time_df['confirmed'].max()}\")\n",
    "print(f\"TimeAge       {time_gender['confirmed'].tail(2).sum()}\")\n",
    "print(f\"TimeGender    {time_age['confirmed'].tail(9).sum()}\")\n",
    "print(\n",
    "    f\"TimeProvince  {time_province['confirmed'].tail(time_province['province'].unique().size).sum()}\"\n",
    ")"
   ]
  },
  {
   "cell_type": "markdown",
   "metadata": {},
   "source": [
    "TimeProvince presents less confirmed cases than the other time series dataframes, that happened probably during the scraping of the dataframe and the choices that the author took to produce them."
   ]
  },
  {
   "cell_type": "markdown",
   "metadata": {},
   "source": [
    "<h3 style=\"color:#BF4F51\">Additional Dataframes</h3>"
   ]
  },
  {
   "cell_type": "markdown",
   "metadata": {},
   "source": [
    "- <b>Region</b>: Location and statistical data of the regions in South Korea\n",
    "- <b>Weather</b>: Data of the weather in the regions of South Korea\n",
    "- <b>SearchTrend</b>: Trend data of the keywords searched in NAVER which is one of the largest portals in South Korea\n",
    "- <b>SeoulFloating</b>: Data of floating population in Seoul, South Korea (from SK Telecom Big Data Hub)\n",
    "- <b>Policy</b>: Data of the government policy for COVID-19 in South Korea"
   ]
  },
  {
   "cell_type": "code",
   "execution_count": 33,
   "metadata": {},
   "outputs": [
    {
     "data": {
      "text/plain": [
       "dict_keys(['Case', 'PatientInfo', 'Policy', 'Region', 'SearchTrend', 'SeoulFloating', 'Time', 'TimeAge', 'TimeGender', 'TimeProvince', 'Weather'])"
      ]
     },
     "execution_count": 33,
     "metadata": {},
     "output_type": "execute_result"
    }
   ],
   "source": [
    "df_dict.keys()"
   ]
  },
  {
   "cell_type": "markdown",
   "metadata": {},
   "source": [
    "- For the proposed questions, only the \"Policy\" dataframe would be still important. <br>\n",
    "- So that will be the last evaluated table, before going back to the EDA."
   ]
  },
  {
   "cell_type": "code",
   "execution_count": 34,
   "metadata": {},
   "outputs": [
    {
     "data": {
      "text/html": [
       "<div>\n",
       "<style scoped>\n",
       "    .dataframe tbody tr th:only-of-type {\n",
       "        vertical-align: middle;\n",
       "    }\n",
       "\n",
       "    .dataframe tbody tr th {\n",
       "        vertical-align: top;\n",
       "    }\n",
       "\n",
       "    .dataframe thead th {\n",
       "        text-align: right;\n",
       "    }\n",
       "</style>\n",
       "<table border=\"1\" class=\"dataframe\">\n",
       "  <thead>\n",
       "    <tr style=\"text-align: right;\">\n",
       "      <th></th>\n",
       "      <th>policy_id</th>\n",
       "      <th>country</th>\n",
       "      <th>type</th>\n",
       "      <th>gov_policy</th>\n",
       "      <th>detail</th>\n",
       "      <th>start_date</th>\n",
       "      <th>end_date</th>\n",
       "    </tr>\n",
       "  </thead>\n",
       "  <tbody>\n",
       "    <tr>\n",
       "      <th>0</th>\n",
       "      <td>1</td>\n",
       "      <td>Korea</td>\n",
       "      <td>Alert</td>\n",
       "      <td>Infectious Disease Alert Level</td>\n",
       "      <td>Level 1 (Blue)</td>\n",
       "      <td>2020-01-03</td>\n",
       "      <td>2020-01-19</td>\n",
       "    </tr>\n",
       "    <tr>\n",
       "      <th>1</th>\n",
       "      <td>2</td>\n",
       "      <td>Korea</td>\n",
       "      <td>Alert</td>\n",
       "      <td>Infectious Disease Alert Level</td>\n",
       "      <td>Level 2 (Yellow)</td>\n",
       "      <td>2020-01-20</td>\n",
       "      <td>2020-01-27</td>\n",
       "    </tr>\n",
       "    <tr>\n",
       "      <th>2</th>\n",
       "      <td>3</td>\n",
       "      <td>Korea</td>\n",
       "      <td>Alert</td>\n",
       "      <td>Infectious Disease Alert Level</td>\n",
       "      <td>Level 3 (Orange)</td>\n",
       "      <td>2020-01-28</td>\n",
       "      <td>2020-02-22</td>\n",
       "    </tr>\n",
       "    <tr>\n",
       "      <th>3</th>\n",
       "      <td>4</td>\n",
       "      <td>Korea</td>\n",
       "      <td>Alert</td>\n",
       "      <td>Infectious Disease Alert Level</td>\n",
       "      <td>Level 4 (Red)</td>\n",
       "      <td>2020-02-23</td>\n",
       "      <td>NaN</td>\n",
       "    </tr>\n",
       "    <tr>\n",
       "      <th>4</th>\n",
       "      <td>5</td>\n",
       "      <td>Korea</td>\n",
       "      <td>Immigration</td>\n",
       "      <td>Special Immigration Procedure</td>\n",
       "      <td>from China</td>\n",
       "      <td>2020-02-04</td>\n",
       "      <td>NaN</td>\n",
       "    </tr>\n",
       "    <tr>\n",
       "      <th>...</th>\n",
       "      <td>...</td>\n",
       "      <td>...</td>\n",
       "      <td>...</td>\n",
       "      <td>...</td>\n",
       "      <td>...</td>\n",
       "      <td>...</td>\n",
       "      <td>...</td>\n",
       "    </tr>\n",
       "    <tr>\n",
       "      <th>56</th>\n",
       "      <td>57</td>\n",
       "      <td>Korea</td>\n",
       "      <td>Transformation</td>\n",
       "      <td>Logistics center</td>\n",
       "      <td>On-site inspection of major logistics faciliti...</td>\n",
       "      <td>2020-05-29</td>\n",
       "      <td>2020-06-11</td>\n",
       "    </tr>\n",
       "    <tr>\n",
       "      <th>57</th>\n",
       "      <td>58</td>\n",
       "      <td>Korea</td>\n",
       "      <td>Transformation</td>\n",
       "      <td>Wearing of masks</td>\n",
       "      <td>Mandatory wearing of passenger mask domestic, ...</td>\n",
       "      <td>2020-05-27</td>\n",
       "      <td>NaN</td>\n",
       "    </tr>\n",
       "    <tr>\n",
       "      <th>58</th>\n",
       "      <td>59</td>\n",
       "      <td>Korea</td>\n",
       "      <td>Transformation</td>\n",
       "      <td>Wearing of masks</td>\n",
       "      <td>Drivers such as buses and taxis can refuse to ...</td>\n",
       "      <td>2020-05-26</td>\n",
       "      <td>NaN</td>\n",
       "    </tr>\n",
       "    <tr>\n",
       "      <th>59</th>\n",
       "      <td>60</td>\n",
       "      <td>Korea</td>\n",
       "      <td>Technology</td>\n",
       "      <td>KI-Pass: Korea Internet - Pass</td>\n",
       "      <td>new quick response (QR) code system this week ...</td>\n",
       "      <td>2020-06-10</td>\n",
       "      <td>NaN</td>\n",
       "    </tr>\n",
       "    <tr>\n",
       "      <th>60</th>\n",
       "      <td>61</td>\n",
       "      <td>Korea</td>\n",
       "      <td>Health</td>\n",
       "      <td>Extends Tightened Quarantine Measures</td>\n",
       "      <td>Gov't Extends Tightened Quarantine Measures in...</td>\n",
       "      <td>2020-05-28</td>\n",
       "      <td>2020-06-14</td>\n",
       "    </tr>\n",
       "  </tbody>\n",
       "</table>\n",
       "<p>61 rows × 7 columns</p>\n",
       "</div>"
      ],
      "text/plain": [
       "    policy_id country            type                              gov_policy  \\\n",
       "0           1   Korea           Alert          Infectious Disease Alert Level   \n",
       "1           2   Korea           Alert          Infectious Disease Alert Level   \n",
       "2           3   Korea           Alert          Infectious Disease Alert Level   \n",
       "3           4   Korea           Alert          Infectious Disease Alert Level   \n",
       "4           5   Korea     Immigration           Special Immigration Procedure   \n",
       "..        ...     ...             ...                                     ...   \n",
       "56         57   Korea  Transformation                        Logistics center   \n",
       "57         58   Korea  Transformation                        Wearing of masks   \n",
       "58         59   Korea  Transformation                        Wearing of masks   \n",
       "59         60   Korea      Technology          KI-Pass: Korea Internet - Pass   \n",
       "60         61   Korea          Health  Extends Tightened Quarantine Measures    \n",
       "\n",
       "                                               detail  start_date    end_date  \n",
       "0                                      Level 1 (Blue)  2020-01-03  2020-01-19  \n",
       "1                                    Level 2 (Yellow)  2020-01-20  2020-01-27  \n",
       "2                                    Level 3 (Orange)  2020-01-28  2020-02-22  \n",
       "3                                       Level 4 (Red)  2020-02-23         NaN  \n",
       "4                                          from China  2020-02-04         NaN  \n",
       "..                                                ...         ...         ...  \n",
       "56  On-site inspection of major logistics faciliti...  2020-05-29  2020-06-11  \n",
       "57  Mandatory wearing of passenger mask domestic, ...  2020-05-27         NaN  \n",
       "58  Drivers such as buses and taxis can refuse to ...  2020-05-26         NaN  \n",
       "59  new quick response (QR) code system this week ...  2020-06-10         NaN  \n",
       "60  Gov't Extends Tightened Quarantine Measures in...  2020-05-28  2020-06-14  \n",
       "\n",
       "[61 rows x 7 columns]"
      ]
     },
     "execution_count": 34,
     "metadata": {},
     "output_type": "execute_result"
    }
   ],
   "source": [
    "policy_df=df_dict['Policy']\n",
    "policy_df"
   ]
  },
  {
   "cell_type": "code",
   "execution_count": 35,
   "metadata": {},
   "outputs": [
    {
     "data": {
      "text/plain": [
       "policy_id     0.00\n",
       "country       0.00\n",
       "type          0.00\n",
       "gov_policy    0.00\n",
       "detail        0.04\n",
       "start_date    0.00\n",
       "end_date      0.72\n",
       "dtype: float64"
      ]
     },
     "execution_count": 35,
     "metadata": {},
     "output_type": "execute_result"
    }
   ],
   "source": [
    "round(policy_df.isna().sum()*100/len(patient_info),2)"
   ]
  },
  {
   "cell_type": "markdown",
   "metadata": {},
   "source": [
    "For the date where this dataframe was released many policies were still being applied, so it is to be expected null values in the \"end_date\" column. "
   ]
  },
  {
   "cell_type": "code",
   "execution_count": 36,
   "metadata": {},
   "outputs": [
    {
     "data": {
      "text/html": [
       "<div>\n",
       "<style scoped>\n",
       "    .dataframe tbody tr th:only-of-type {\n",
       "        vertical-align: middle;\n",
       "    }\n",
       "\n",
       "    .dataframe tbody tr th {\n",
       "        vertical-align: top;\n",
       "    }\n",
       "\n",
       "    .dataframe thead th {\n",
       "        text-align: right;\n",
       "    }\n",
       "</style>\n",
       "<table border=\"1\" class=\"dataframe\">\n",
       "  <thead>\n",
       "    <tr style=\"text-align: right;\">\n",
       "      <th></th>\n",
       "      <th>policy_id</th>\n",
       "      <th>country</th>\n",
       "      <th>type</th>\n",
       "      <th>gov_policy</th>\n",
       "      <th>detail</th>\n",
       "      <th>start_date</th>\n",
       "      <th>end_date</th>\n",
       "    </tr>\n",
       "  </thead>\n",
       "  <tbody>\n",
       "    <tr>\n",
       "      <th>50</th>\n",
       "      <td>51</td>\n",
       "      <td>Korea</td>\n",
       "      <td>Technology</td>\n",
       "      <td>Self-Diagnosis App</td>\n",
       "      <td>NaN</td>\n",
       "      <td>2020-02-12</td>\n",
       "      <td>NaN</td>\n",
       "    </tr>\n",
       "    <tr>\n",
       "      <th>51</th>\n",
       "      <td>52</td>\n",
       "      <td>Korea</td>\n",
       "      <td>Technology</td>\n",
       "      <td>Self-Quarantine Safety Protection App</td>\n",
       "      <td>NaN</td>\n",
       "      <td>2020-03-07</td>\n",
       "      <td>NaN</td>\n",
       "    </tr>\n",
       "  </tbody>\n",
       "</table>\n",
       "</div>"
      ],
      "text/plain": [
       "    policy_id country        type                             gov_policy  \\\n",
       "50         51   Korea  Technology                     Self-Diagnosis App   \n",
       "51         52   Korea  Technology  Self-Quarantine Safety Protection App   \n",
       "\n",
       "   detail  start_date end_date  \n",
       "50    NaN  2020-02-12      NaN  \n",
       "51    NaN  2020-03-07      NaN  "
      ]
     },
     "execution_count": 36,
     "metadata": {},
     "output_type": "execute_result"
    }
   ],
   "source": [
    "policy_df[policy_df['detail'].isna()]"
   ]
  },
  {
   "cell_type": "markdown",
   "metadata": {},
   "source": [
    "The null values for policy detail are self-explanatory."
   ]
  },
  {
   "cell_type": "markdown",
   "metadata": {},
   "source": [
    "<h2 style=\"color:#BF4F51\">Data Export </h2>"
   ]
  },
  {
   "cell_type": "markdown",
   "metadata": {},
   "source": [
    "Let's get the original path and names for the data and change the directory for automatic saving."
   ]
  },
  {
   "cell_type": "code",
   "execution_count": 37,
   "metadata": {},
   "outputs": [
    {
     "data": {
      "text/plain": [
       "['C:/Users/renat/TCProjects/M1_Capstone/COVID_data_Korea_modif\\\\Case.csv',\n",
       " 'C:/Users/renat/TCProjects/M1_Capstone/COVID_data_Korea_modif\\\\PatientInfo.csv',\n",
       " 'C:/Users/renat/TCProjects/M1_Capstone/COVID_data_Korea_modif\\\\Policy.csv',\n",
       " 'C:/Users/renat/TCProjects/M1_Capstone/COVID_data_Korea_modif\\\\Region.csv',\n",
       " 'C:/Users/renat/TCProjects/M1_Capstone/COVID_data_Korea_modif\\\\SearchTrend.csv',\n",
       " 'C:/Users/renat/TCProjects/M1_Capstone/COVID_data_Korea_modif\\\\SeoulFloating.csv',\n",
       " 'C:/Users/renat/TCProjects/M1_Capstone/COVID_data_Korea_modif\\\\Time.csv',\n",
       " 'C:/Users/renat/TCProjects/M1_Capstone/COVID_data_Korea_modif\\\\TimeAge.csv',\n",
       " 'C:/Users/renat/TCProjects/M1_Capstone/COVID_data_Korea_modif\\\\TimeGender.csv',\n",
       " 'C:/Users/renat/TCProjects/M1_Capstone/COVID_data_Korea_modif\\\\TimeProvince.csv',\n",
       " 'C:/Users/renat/TCProjects/M1_Capstone/COVID_data_Korea_modif\\\\Weather.csv']"
      ]
     },
     "execution_count": 37,
     "metadata": {},
     "output_type": "execute_result"
    }
   ],
   "source": [
    "dir_path = r\"C:/Users/renat/TCProjects/M1_Capstone/COVID_data_Korea\"\n",
    "csv_files = glob.glob(dir_path + \"/*.csv\")\n",
    "csv_files = [file.replace('_data_Korea', '_data_Korea_modif') for file in csv_files]\n",
    "csv_files"
   ]
  },
  {
   "cell_type": "markdown",
   "metadata": {},
   "source": [
    "Save all the updated data"
   ]
  },
  {
   "cell_type": "code",
   "execution_count": 38,
   "metadata": {},
   "outputs": [],
   "source": [
    "#for file in csv_files:\n",
    "#   df_dict[file[61:-4]].to_csv(file, sep=',', encoding='utf-8', index=False)"
   ]
  },
  {
   "cell_type": "code",
   "execution_count": 39,
   "metadata": {},
   "outputs": [],
   "source": [
    "#df_dict[csv_files[1][61:-4]].to_csv(csv_files[1], sep=',', encoding='utf-8', index=False)"
   ]
  }
 ],
 "metadata": {
  "kernelspec": {
   "display_name": "Python 3 (ipykernel)",
   "language": "python",
   "name": "python3"
  },
  "language_info": {
   "codemirror_mode": {
    "name": "ipython",
    "version": 3
   },
   "file_extension": ".py",
   "mimetype": "text/x-python",
   "name": "python",
   "nbconvert_exporter": "python",
   "pygments_lexer": "ipython3",
   "version": "3.9.13"
  },
  "toc": {
   "base_numbering": "2",
   "nav_menu": {},
   "number_sections": true,
   "sideBar": true,
   "skip_h1_title": false,
   "title_cell": "Table of Contents",
   "title_sidebar": "Contents",
   "toc_cell": false,
   "toc_position": {
    "height": "586.932px",
    "left": "25px",
    "top": "110.537px",
    "width": "317.472px"
   },
   "toc_section_display": true,
   "toc_window_display": true
  }
 },
 "nbformat": 4,
 "nbformat_minor": 1
}
